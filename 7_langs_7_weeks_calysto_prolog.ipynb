{
 "cells": [
  {
   "cell_type": "code",
   "execution_count": 26,
   "metadata": {},
   "outputs": [
    {
     "name": "stdout",
     "output_type": "stream",
     "text": [
      "Rule added to database.\n",
      "Rule added to database.\n",
      "Rule added to database.\n",
      "Rule added to database.\n",
      "Rule added to database.\n",
      "Rule added to database.\n",
      "Rule added to database.\n",
      "Rule added to database.\n",
      "Rule added to database.\n",
      "Rule added to database.\n"
     ]
    }
   ],
   "source": [
    "different(red,green). different(red, blue).\n",
    "different(green, red). different(green, blue).\n",
    "different(blue, red). different(blue, green).\n",
    "\n",
    "coloring(Tennessee, Alabama, Georgia, Mississippi, Florida) :- different(Tennessee, Mississippi),\n",
    "    different(Tennessee, Georgia),\n",
    "    different(Tennessee, Alabama),\n",
    "    different(Mississippi, Alabama),\n",
    "    different(Alabama, Georgia),\n",
    "    different(Alabama,Florida),\n",
    "    different(Florida, Georgia)."
   ]
  },
  {
   "cell_type": "code",
   "execution_count": 27,
   "metadata": {
    "scrolled": true
   },
   "outputs": [
    {
     "name": "stdout",
     "output_type": "stream",
     "text": [
      "Use '%continue' for more results.\n"
     ]
    },
    {
     "data": {
      "text/plain": [
       "True"
      ]
     },
     "execution_count": 27,
     "metadata": {},
     "output_type": "execute_result"
    }
   ],
   "source": [
    "coloring(Tennessee, Alabama, Georgia, Mississippi, Florida) ?"
   ]
  },
  {
   "cell_type": "code",
   "execution_count": 13,
   "metadata": {},
   "outputs": [
    {
     "name": "stdout",
     "output_type": "stream",
     "text": [
      "Rule added to database.\n",
      "Rule added to database.\n",
      "Rule added to database.\n",
      "Rule added to database.\n",
      "Rule added to database.\n",
      "Rule added to database.\n",
      "Rule added to database.\n",
      "Rule added to database.\n",
      "Rule added to database.\n"
     ]
    }
   ],
   "source": [
    "    child(stephanie).\n",
    "    child(thad).\n",
    "    mother_child(trude, sally).\n",
    " \n",
    "    father_child(tom, sally).\n",
    "    father_child(tom, erica).\n",
    "    father_child(mike, tom).\n",
    " \n",
    "    sibling(X, Y)      :- parent_child(Z, X), parent_child(Z, Y).\n",
    " \n",
    "    parent_child(X, Y) :- father_child(X, Y).\n",
    "    parent_child(X, Y) :- mother_child(X, Y)."
   ]
  },
  {
   "cell_type": "code",
   "execution_count": 14,
   "metadata": {},
   "outputs": [
    {
     "name": "stdout",
     "output_type": "stream",
     "text": [
      "Use '%continue' for more results.\n"
     ]
    },
    {
     "name": "stderr",
     "output_type": "stream",
     "text": [
      "\u001b[1;31mUnable to process query. Please restate.\n",
      "\u001b[0m"
     ]
    },
    {
     "name": "stdout",
     "output_type": "stream",
     "text": [
      "Use '%continue' for more results.\n"
     ]
    },
    {
     "data": {
      "text/plain": [
       "{'Father': tom, 'Child': sally}"
      ]
     },
     "execution_count": 14,
     "metadata": {},
     "output_type": "execute_result"
    }
   ],
   "source": [
    "    child(NAME)?\n",
    "    sibling(sally, erica)?\n",
    "    father_child(Father, Child)?"
   ]
  }
 ],
 "metadata": {
  "kernelspec": {
   "display_name": "Calysto Prolog",
   "language": "prolog",
   "name": "calysto_prolog"
  },
  "language_info": {
   "codemirror_mode": {
    "name": "prolog"
   },
   "mimetype": "text/x-prolog",
   "name": "prolog",
   "pygments_lexer": "prolog"
  }
 },
 "nbformat": 4,
 "nbformat_minor": 4
}
